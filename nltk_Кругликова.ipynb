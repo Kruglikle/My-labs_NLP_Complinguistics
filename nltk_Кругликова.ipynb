{
  "nbformat": 4,
  "nbformat_minor": 0,
  "metadata": {
    "colab": {
      "provenance": [],
      "authorship_tag": "ABX9TyPoVli0pj5jZZw+QL5k3NUA",
      "include_colab_link": true
    },
    "kernelspec": {
      "name": "python3",
      "display_name": "Python 3"
    },
    "language_info": {
      "name": "python"
    }
  },
  "cells": [
    {
      "cell_type": "markdown",
      "metadata": {
        "id": "view-in-github",
        "colab_type": "text"
      },
      "source": [
        "<a href=\"https://colab.research.google.com/github/Kruglikle/My-labs_NLP_Complinguistics/blob/main/nltk_%D0%9A%D1%80%D1%83%D0%B3%D0%BB%D0%B8%D0%BA%D0%BE%D0%B2%D0%B0.ipynb\" target=\"_parent\"><img src=\"https://colab.research.google.com/assets/colab-badge.svg\" alt=\"Open In Colab\"/></a>"
      ]
    },
    {
      "cell_type": "code",
      "execution_count": null,
      "metadata": {
        "id": "XsRFTkh0cFfz"
      },
      "outputs": [],
      "source": [
        "import nltk"
      ]
    },
    {
      "cell_type": "markdown",
      "source": [
        "Знаменитый певец исполнял романс, когда свет на\n",
        "сцене неожиданно для всех погас.\n",
        "(nltk работает только с англ)"
      ],
      "metadata": {
        "id": "APFRsXITcQut"
      }
    },
    {
      "cell_type": "code",
      "source": [
        "import nltk\n",
        "\n",
        "groucho_grammar = nltk.CFG.fromstring(\"\"\"\n",
        "  S -> NP VP\n",
        "  PP -> P NP\n",
        "  NP -> N | N PP | 'Я'\n",
        "  VP -> V NP | VP PP | V Adv | V NP PP | V Adv PP\n",
        "  Adj -> 'знаменитый'\n",
        "  Adv -> 'неожиданно'\n",
        "  N -> 'певец' | 'романс' | 'свет' | 'сцене'\n",
        "  V -> 'исполнял' | 'погас'\n",
        "  P -> 'на' | 'для'\n",
        "  C -> 'когда'\n",
        "  Pron -> 'всех'\n",
        "\"\"\")"
      ],
      "metadata": {
        "id": "IgsZHMAWcLvG"
      },
      "execution_count": null,
      "outputs": []
    },
    {
      "cell_type": "code",
      "source": [
        "sent = ['знаменитый', 'певец', 'исполнял', 'романс', 'когда', 'свет', 'на', 'сцене',  'неожиданно', 'для', 'всех', 'погас']\n",
        "parser = nltk.ChartParser(groucho_grammar)\n",
        "for tree in parser.parse(sent):\n",
        "    print(tree)"
      ],
      "metadata": {
        "id": "4DHWB9ECc9Uf"
      },
      "execution_count": null,
      "outputs": []
    },
    {
      "cell_type": "code",
      "source": [
        "groucho_grammar.productions(rhs=sent[1])"
      ],
      "metadata": {
        "colab": {
          "base_uri": "https://localhost:8080/"
        },
        "id": "CVNOCH_JdBr7",
        "outputId": "372630ce-b063-47df-f1e9-0da8f4ef270b"
      },
      "execution_count": null,
      "outputs": [
        {
          "output_type": "execute_result",
          "data": {
            "text/plain": [
              "[N -> 'певец']"
            ]
          },
          "metadata": {},
          "execution_count": 79
        }
      ]
    },
    {
      "cell_type": "markdown",
      "source": [
        "The famous singer was performing a romance when the lights on the stage unexpectedly went out for everyone."
      ],
      "metadata": {
        "id": "SHkntneEjDWg"
      }
    },
    {
      "cell_type": "code",
      "source": [
        "grammar1 = nltk.CFG.fromstring(\"\"\"\n",
        "  S -> NP VP\n",
        "  NP -> Det Adj N | Det N | N | Pron\n",
        "  VP -> V NP | V PP | V Adv | V Adv PP | V C | V\n",
        "  PP -> P NP\n",
        "  Det -> \"the\" | \"a\"\n",
        "  N -> \"singer\" | \"romance\" | \"lights\" | \"stage\" | \"park\"\n",
        "  Adj -> \"famous\" | \"frightened\" | \"little\" | \"tall\"\n",
        "  Adv -> \"unexpectedly\"\n",
        "  Pron -> \"everyone\"\n",
        "  V -> \"was\" | \"performing\" | \"went\" | \"out\"\n",
        "  P -> \"on\" | \"for\" | \"when\"\n",
        "  C -> \"when\"\n",
        "\"\"\")\n",
        "\n"
      ],
      "metadata": {
        "id": "IemxyBmtjBDb"
      },
      "execution_count": null,
      "outputs": []
    },
    {
      "cell_type": "code",
      "source": [
        "sent = [\"the\", \"famous\", \"singer\", \"was\", \"performing\", \"a\", \"romance\", \"when\", \"the\", \"lights\",\n",
        "        \"on\", \"the\", \"stage\", \"unexpectedly\", \"went\", \"out\", \"for\", \"everyone\"]\n",
        "parser = nltk.ChartParser(grammar1)\n",
        "for tree in parser.parse(sent):\n",
        "  print(tree)\n",
        "#почему-то не выводит дерево, ошибки не выдает"
      ],
      "metadata": {
        "id": "Czy5otCskHef"
      },
      "execution_count": null,
      "outputs": []
    },
    {
      "cell_type": "code",
      "source": [
        "grammar1.productions(rhs=sent[1])"
      ],
      "metadata": {
        "colab": {
          "base_uri": "https://localhost:8080/"
        },
        "id": "aBQAnnjVl27C",
        "outputId": "a60f4e33-d41e-4dbf-e209-719d7be519f8"
      },
      "execution_count": null,
      "outputs": [
        {
          "output_type": "execute_result",
          "data": {
            "text/plain": [
              "[Adj -> 'famous']"
            ]
          },
          "metadata": {},
          "execution_count": 86
        }
      ]
    },
    {
      "cell_type": "markdown",
      "source": [
        "Задание 2.\n",
        "Доработайте написанную нами грамматику grammar2.\n",
        "Она должна работать для предложений, в которых различаются наречия, наречия,\n",
        "перешедшие в предлоги и предложные группы (напр., навстречу, поверх и т. д.)\n",
        "Вызовите дерево для предложения Lee ran away home."
      ],
      "metadata": {
        "id": "_fhmk_aomgVO"
      }
    },
    {
      "cell_type": "code",
      "source": [
        "grammar22 = nltk.CFG.fromstring(\"\"\"\n",
        "  S -> NP VP\n",
        "  NP -> Det Nom | PropN\n",
        "  Nom -> Adj Nom | N\n",
        "  VP -> V Adj | V NP | V S | V NP PP\n",
        "  PP -> P NP\n",
        "  PropN -> 'Buster' | 'Chatterer' | 'Joe'\n",
        "  Det -> 'the' | 'a'\n",
        "  N -> 'bear' | 'squirrel' | 'tree' | 'fish' | 'log'\n",
        "  Adj -> 'angry' | 'frightened' | 'little' | 'tall'\n",
        "  Adv -> 'unexpectedly'\n",
        "  V -> 'chased' | 'saw' | 'said' | 'thought' | 'was' | 'put'\n",
        "  P -> 'on' | 'along' | 'across' | 'behind' | 'inside' | 'outside' | 'up'\n",
        "\"\"\")\n",
        "\n",
        "sent = \"Buster saw a little squirrel behind a tall tree\".split()\n",
        "parser = nltk.ChartParser(grammar22)\n",
        "\n",
        "# Печать дерева синтаксического анализа\n",
        "for tree in parser.parse(sent):\n",
        "    print(tree)\n"
      ],
      "metadata": {
        "colab": {
          "base_uri": "https://localhost:8080/"
        },
        "id": "9Hm0NUxvoPKy",
        "outputId": "1f1178af-803c-4fd3-fc64-cad6f09e6bcf"
      },
      "execution_count": null,
      "outputs": [
        {
          "output_type": "stream",
          "name": "stdout",
          "text": [
            "(S\n",
            "  (NP (PropN Buster))\n",
            "  (VP\n",
            "    (V saw)\n",
            "    (NP (Det a) (Nom (Adj little) (Nom (N squirrel))))\n",
            "    (PP (P behind) (NP (Det a) (Nom (Adj tall) (Nom (N tree)))))))\n"
          ]
        }
      ]
    }
  ]
}