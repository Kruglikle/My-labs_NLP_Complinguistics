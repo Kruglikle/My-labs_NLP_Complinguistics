{
  "nbformat": 4,
  "nbformat_minor": 0,
  "metadata": {
    "colab": {
      "provenance": [],
      "authorship_tag": "ABX9TyNBTkt9XQlW2JH3lqJEkHZm",
      "include_colab_link": true
    },
    "kernelspec": {
      "name": "python3",
      "display_name": "Python 3"
    },
    "language_info": {
      "name": "python"
    }
  },
  "cells": [
    {
      "cell_type": "markdown",
      "metadata": {
        "id": "view-in-github",
        "colab_type": "text"
      },
      "source": [
        "<a href=\"https://colab.research.google.com/github/Kruglikle/My-labs_NLP_Complinguistics/blob/main/Find_articles_Arxiv.ipynb\" target=\"_parent\"><img src=\"https://colab.research.google.com/assets/colab-badge.svg\" alt=\"Open In Colab\"/></a>"
      ]
    },
    {
      "cell_type": "code",
      "source": [
        "!pip install arxiv -q"
      ],
      "metadata": {
        "id": "zqcrTv9mcOvL",
        "colab": {
          "base_uri": "https://localhost:8080/"
        },
        "outputId": "2ea650f0-6ad6-4aac-c06c-60a3aad5ef59"
      },
      "execution_count": null,
      "outputs": [
        {
          "output_type": "stream",
          "name": "stdout",
          "text": [
            "  Preparing metadata (setup.py) ... \u001b[?25l\u001b[?25hdone\n",
            "\u001b[2K   \u001b[90m━━━━━━━━━━━━━━━━━━━━━━━━━━━━━━━━━━━━━━━━\u001b[0m \u001b[32m81.3/81.3 kB\u001b[0m \u001b[31m3.1 MB/s\u001b[0m eta \u001b[36m0:00:00\u001b[0m\n",
            "\u001b[?25h  Building wheel for sgmllib3k (setup.py) ... \u001b[?25l\u001b[?25hdone\n"
          ]
        }
      ]
    },
    {
      "cell_type": "code",
      "execution_count": null,
      "metadata": {
        "colab": {
          "base_uri": "https://localhost:8080/"
        },
        "id": "bqn3Z7yBcEwa",
        "outputId": "79e065d2-5fee-4469-d85b-bf315bd1930b"
      },
      "outputs": [
        {
          "output_type": "stream",
          "name": "stderr",
          "text": [
            "<ipython-input-9-1ea2d83e4546>:8: DeprecationWarning: The 'Search.results' method is deprecated, use 'Client.results' instead\n",
            "  for result in search.results():\n"
          ]
        },
        {
          "output_type": "stream",
          "name": "stdout",
          "text": [
            "Title: XBreaking: Explainable Artificial Intelligence for Jailbreaking LLMs\n",
            "Authors: Marco Arazzi, Vignesh Kumar Kembu, Antonino Nocera, Vinod P\n",
            "Published: 2025-04-30 14:44:24+00:00\n",
            "PDF URL: http://arxiv.org/pdf/2504.21700v1\n",
            "\n",
            "Title: NGENT: Next-Generation AI Agents Must Integrate Multi-Domain Abilities to Achieve Artificial General Intelligence\n",
            "Authors: Zhicong Li, Hangyu Mao, Jiangjin Yin, Mingzhe Xing, Zhiwei Xu, Yuanxing Zhang, Yang Xiao\n",
            "Published: 2025-04-30 08:46:14+00:00\n",
            "PDF URL: http://arxiv.org/pdf/2504.21433v1\n",
            "\n",
            "Title: Theoretical Foundations for Semantic Cognition in Artificial Intelligence\n",
            "Authors: Sebastian Dumbrava\n",
            "Published: 2025-04-29 23:10:07+00:00\n",
            "PDF URL: http://arxiv.org/pdf/2504.21218v1\n",
            "\n",
            "Title: Artificial Intelligence for Personalized Prediction of Alzheimer's Disease Progression: A Survey of Methods, Data Challenges, and Future Directions\n",
            "Authors: Gulsah Hancerliogullari Koksalmis, Bulent Soykan, Laura J. Brattain, Hsin-Hsiung Huang\n",
            "Published: 2025-04-29 21:45:28+00:00\n",
            "PDF URL: http://arxiv.org/pdf/2504.21189v1\n",
            "\n",
            "Title: Hamiltonian learning of triplon excitations in an artificial nanoscale molecular quantum magnet\n",
            "Authors: Rouven Koch, Robert Drost, Peter Liljeroth, Jose L. Lado\n",
            "Published: 2025-04-29 12:43:35+00:00\n",
            "PDF URL: http://arxiv.org/pdf/2504.20711v1\n",
            "\n",
            "Title: Large-scale artificial intelligence with 41 million nanophotonic neurons on a metasurface\n",
            "Authors: Mingcheng Luo, Meirui Jiang, Bhavin J. Shastri, Nansen Zhou, Wenfei Guo, Jianmin Xiong, Dongliang Wang, Renjie Zhou, Chester Shu, Qi Dou, Chaoran Huang\n",
            "Published: 2025-04-29 04:27:35+00:00\n",
            "PDF URL: http://arxiv.org/pdf/2504.20416v1\n",
            "\n",
            "Title: Artificial Intelligence in Number Theory: LLMs for Algorithm Generation and Neural Networks for Conjecture Verification\n",
            "Authors: Ali Saraeb\n",
            "Published: 2025-04-28 03:36:47+00:00\n",
            "PDF URL: http://arxiv.org/pdf/2504.19451v1\n",
            "\n",
            "Title: Logic-Based Artificial Intelligence Algorithms Supporting Categorical Semantics\n",
            "Authors: Ralph Wojtowicz\n",
            "Published: 2025-04-27 18:02:02+00:00\n",
            "PDF URL: http://arxiv.org/pdf/2504.19320v1\n",
            "\n",
            "Title: Personalized Artificial General Intelligence (AGI) via Neuroscience-Inspired Continuous Learning Systems\n",
            "Authors: Rajeev Gupta, Suhani Gupta, Ronak Parikh, Divya Gupta, Amir Javaheri, Jairaj Singh Shaktawat\n",
            "Published: 2025-04-27 16:10:17+00:00\n",
            "PDF URL: http://arxiv.org/pdf/2504.20109v1\n",
            "\n",
            "Title: Ethical Challenges of Using Artificial Intelligence in Judiciary\n",
            "Authors: Angel Mary John, Aiswarya M. U., Jerrin Thomas Panachakel\n",
            "Published: 2025-04-27 15:51:56+00:00\n",
            "PDF URL: http://arxiv.org/pdf/2504.19284v1\n",
            "\n",
            "Title: A Design Framework for operationalizing Trustworthy Artificial Intelligence in Healthcare: Requirements, Tradeoffs and Challenges for its Clinical Adoption\n",
            "Authors: Pedro A. Moreno-Sánchez, Javier Del Ser, Mark van Gils, Jussi Hernesniemi\n",
            "Published: 2025-04-27 09:57:35+00:00\n",
            "PDF URL: http://arxiv.org/pdf/2504.19179v1\n",
            "\n",
            "Title: Sparks: Multi-Agent Artificial Intelligence Model Discovers Protein Design Principles\n",
            "Authors: Alireza Ghafarollahi, Markus J. Buehler\n",
            "Published: 2025-04-26 20:43:28+00:00\n",
            "PDF URL: http://arxiv.org/pdf/2504.19017v1\n",
            "\n",
            "Title: Artificial Intelligence Generates Stereotypical Images of Scientists but Can Also Detect Them: A Pilot Study Using the Draw-A-Scientist Test\n",
            "Authors: Gyeonggeon Lee\n",
            "Published: 2025-04-26 19:31:24+00:00\n",
            "PDF URL: http://arxiv.org/pdf/2504.19005v1\n",
            "\n",
            "Title: Artificial Intelligence health advice accuracy varies across languages and contexts\n",
            "Authors: Prashant Garg, Thiemo Fetzer\n",
            "Published: 2025-04-25 12:37:15+00:00\n",
            "PDF URL: http://arxiv.org/pdf/2504.18310v1\n",
            "\n",
            "Title: Hype and Adoption of Generative Artificial Intelligence Applications\n",
            "Authors: Vinh Truong\n",
            "Published: 2025-04-25 05:15:57+00:00\n",
            "PDF URL: http://arxiv.org/pdf/2504.18081v1\n",
            "\n",
            "Title: Applied Sheaf Theory For Multi-agent Artificial Intelligence (Reinforcement Learning) Systems: A Prospectus\n",
            "Authors: Eric Schmid\n",
            "Published: 2025-04-24 16:08:53+00:00\n",
            "PDF URL: http://arxiv.org/pdf/2504.17700v1\n",
            "\n",
            "Title: Fried Parameter Estimation from Single Wavefront Sensor Image with Artificial Neural Networks\n",
            "Authors: Jeffrey Smith, Taisei Fujii, Jesse Cranney, Charles Gretton\n",
            "Published: 2025-04-23 18:16:07+00:00\n",
            "PDF URL: http://arxiv.org/pdf/2504.17029v1\n",
            "\n",
            "Title: An Artificial Intelligence-Based Framework for Predicting Emergency Department Overcrowding: Development and Evaluation Study\n",
            "Authors: Orhun Vural, Bunyamin Ozaydin, Khalid Y. Aram, James Booth, Brittany F. Lindsey, Abdulaziz Ahmed\n",
            "Published: 2025-04-23 00:23:13+00:00\n",
            "PDF URL: http://arxiv.org/pdf/2504.18578v1\n",
            "\n",
            "Title: Quantum Excitation Transfer in an Artificial Photosynthetic Light-Harvesting System\n",
            "Authors: Stephon Alexander, Roger Andrews, Oliver Fox, Sarben Sarkar\n",
            "Published: 2025-04-21 15:26:19+00:00\n",
            "PDF URL: http://arxiv.org/pdf/2504.15172v1\n",
            "\n",
            "Title: Artificial compressibility method for the incompressible Navier-Stokes equations with variable density\n",
            "Authors: Cappanera Loic, Giordano Salvatore\n",
            "Published: 2025-04-21 14:55:24+00:00\n",
            "PDF URL: http://arxiv.org/pdf/2504.15151v1\n",
            "\n"
          ]
        }
      ],
      "source": [
        "import arxiv\n",
        "search = arxiv.Search(\n",
        "    query=\"ti:Artificial \",\n",
        "    max_results=20,\n",
        "    sort_by=arxiv.SortCriterion.SubmittedDate\n",
        ")\n",
        "\n",
        "for result in search.results():\n",
        "    print(f\"Title: {result.title}\")\n",
        "    print(f\"Authors: {', '.join(a.name for a in result.authors)}\")\n",
        "    print(f\"Published: {result.published}\")\n",
        "    print(f\"PDF URL: {result.pdf_url}\\n\")"
      ]
    }
  ]
}