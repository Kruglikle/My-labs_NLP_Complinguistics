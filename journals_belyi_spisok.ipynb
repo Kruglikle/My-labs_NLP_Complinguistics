{
  "nbformat": 4,
  "nbformat_minor": 0,
  "metadata": {
    "colab": {
      "provenance": [],
      "gpuType": "T4",
      "authorship_tag": "ABX9TyOQilQXjt36EZHnZxLyzObj",
      "include_colab_link": true
    },
    "kernelspec": {
      "name": "python3",
      "display_name": "Python 3"
    },
    "language_info": {
      "name": "python"
    },
    "accelerator": "GPU"
  },
  "cells": [
    {
      "cell_type": "markdown",
      "metadata": {
        "id": "view-in-github",
        "colab_type": "text"
      },
      "source": [
        "<a href=\"https://colab.research.google.com/github/Kruglikle/My-labs_NLP_Complinguistics/blob/main/journals_belyi_spisok.ipynb\" target=\"_parent\"><img src=\"https://colab.research.google.com/assets/colab-badge.svg\" alt=\"Open In Colab\"/></a>"
      ]
    },
    {
      "cell_type": "code",
      "execution_count": null,
      "metadata": {
        "id": "d5Q48UD0JvAM",
        "colab": {
          "base_uri": "https://localhost:8080/"
        },
        "outputId": "29b352a4-9aa3-4fa5-c039-68f42ef71e18"
      },
      "outputs": [
        {
          "output_type": "stream",
          "name": "stderr",
          "text": [
            "/tmp/ipython-input-1182030148.py:9: DtypeWarning: Columns (2,3,13,14,32,35,76,78,86) have mixed types. Specify dtype option on import or set low_memory=False.\n",
            "  df = pd.read_csv(input_file, sep=\"\\t\", header=None)\n"
          ]
        },
        {
          "output_type": "stream",
          "name": "stdout",
          "text": [
            "Сохранено 511 журналов\n",
            "CSV: journals_filtered.csv\n",
            "Excel: journals_filtered.xlsx\n"
          ]
        }
      ],
      "source": [
        "import pandas as pd\n",
        "\n",
        "input_file = \"journalrank_19.csv\" # путь к выгруженному файлу\n",
        "output_csv = \"journals_filtered.csv\" # на выходе получаем csv\n",
        "output_excel = \"journals_filtered.xlsx\" #+ xlsx\n",
        "\n",
        "# загружаем CSV (разделитель — табуляция, кавычки двойные)\n",
        "df = pd.read_csv(input_file, sep=\"\\t\", header=None)\n",
        "\n",
        "# первый столбец — название журнала\n",
        "df = df.rename(columns={0: \"title\"})\n",
        "\n",
        "# ключевые слова для поиска журналов\n",
        "keywords = [\"history\", \"педагогика\", \"история\",\n",
        "            \"культура\", \"России\"]\n",
        "\n",
        "# фильтрация по ключевым словам (регистр не учитываем)\n",
        "mask = df[\"title\"].str.contains(\"|\".join(keywords), case=False, na=False)\n",
        "filtered = df[mask]\n",
        "\n",
        "# сохраняем результат в CSV\n",
        "filtered.to_csv(output_csv, index=False, encoding=\"utf-8-sig\")\n",
        "\n",
        "# сохраняем результат в Excel\n",
        "filtered.to_excel(output_excel, index=False, engine=\"openpyxl\")\n",
        "\n",
        "print(f\"Сохранено {len(filtered)} журналов\")\n",
        "print(f\"CSV: {output_csv}\")\n",
        "print(f\"Excel: {output_excel}\")\n"
      ]
    }
  ]
}